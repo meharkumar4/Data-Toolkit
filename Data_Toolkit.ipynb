{
  "nbformat": 4,
  "nbformat_minor": 0,
  "metadata": {
    "colab": {
      "provenance": []
    },
    "kernelspec": {
      "name": "python3",
      "display_name": "Python 3"
    },
    "language_info": {
      "name": "python"
    }
  },
  "cells": [
    {
      "cell_type": "markdown",
      "source": [
        "# Data Toolkit\n"
      ],
      "metadata": {
        "id": "uDHIAgQ9zSU3"
      }
    },
    {
      "cell_type": "markdown",
      "source": [
        "1. A What is NumPy, and why is it widely used in Python?\n",
        "- NumPy (Numerical Python) is a powerful Python library for numerical computing. It provides fast, memory-efficient array operations, mathematical functions, and linear algebra tools. Widely used in data science, machine learning, and scientific computing, it enhances performance and efficiency.\n",
        "\n",
        "2. How does broadcasting work in NumPy?\n",
        "- In NumPy, broadcasting allows operations between arrays of different shapes by automatically expanding the smaller array to match the larger one. This avoids unnecessary memory duplication and enhances efficiency.\n",
        "\n",
        "\n",
        "How it Works:\n",
        "\n",
        "* Align dimensions: NumPy compares shapes from right to left.\n",
        "* Expand dimensions: If dimensions mismatch, the smaller array is stretched (virtually, without copying data).\n",
        "* Apply operations element-wise: The operation is performed across all elements.\n",
        "\n",
        "3. What is a Pandas DataFrame?\n",
        "- A Pandas DataFrame is a 2D, tabular data structure in Python, similar to an Excel spreadsheet or SQL table. It consists of labeled rows and columns, making data manipulation, analysis, and visualization easy.\n",
        "\n",
        "4. A Explain the use of the groupby() method in Pandas?\n",
        "- The groupby() method in Pandas is used for grouping data based on one or more columns and then applying aggregation functions like sum(), mean(), count(), etc. It is useful for data analysis, summarization, and statistical calculations.\n",
        "\n",
        "\n",
        "How groupby() Works:\n",
        "\n",
        "* Splitting: Divides data into groups based on a specified column.\n",
        "* Applying: Performs an aggregation (e.g., sum, mean).\n",
        "* Combining: Returns the computed results in a structured format.\n",
        "\n",
        "5. Why is Seaborn preferred for statistical visualizations?\n",
        "- Seaborn is a Python data visualization library built on Matplotlib, designed for statistical graphics. It is widely preferred because of its:\n",
        "\n",
        "\n",
        "1. High-Level Interface:\n",
        "\n",
        "✔ Simplifies complex plots with minimal code.\n",
        "\n",
        "✔ Built-in themes for aesthetic and professional visuals.\n",
        "\n",
        "\n",
        "2. Built-in Statistical Functions:\n",
        "\n",
        "✔ Supports regression, categorical, and distribution plots.\n",
        "\n",
        "✔ Functions like sns.histplot(), sns.boxplot(), sns.regplot(), etc., are optimized for statistical analysis.\n",
        "\n",
        "\n",
        "3. Works Seamlessly with Pandas:\n",
        "\n",
        "✔ Accepts Pandas DataFrames directly.\n",
        "\n",
        "✔ Auto-handles missing values and categorical data.\n",
        "\n",
        "4. Attractive & Readable Plots:\n",
        "\n",
        "✔ Uses color palettes that enhance readability.\n",
        "\n",
        "✔ Automatically adjusts plot elements for clarity.\n",
        "\n",
        "6. What are the differences between NumPy arrays and Python lists?\n",
        "- ### **Differences Between NumPy Arrays and Python Lists**  \n",
        "\n",
        "| Feature            | **NumPy Arrays** 🟢 | **Python Lists** 🔵 |\n",
        "|--------------------|--------------------|---------------------|\n",
        "| **Speed**         | Faster (due to C optimization) | Slower (interpreted) |\n",
        "| **Memory Usage**  | More memory-efficient | Uses more memory |\n",
        "| **Data Type**     | Homogeneous (same type) | Heterogeneous (mixed types) |\n",
        "| **Operations**    | Supports vectorized operations | Requires explicit loops |\n",
        "| **Functionality** | Advanced mathematical functions (e.g., linear algebra, FFT) | Basic operations only |\n",
        "| **Indexing**      | Supports multi-dimensional indexing | Limited to one dimension |\n",
        "| **Flexibility**   | Less flexible (fixed type) | More flexible (any data type) |\n",
        "\n",
        "7. What is a heatmap, and when should it be used?\n",
        "-  \n",
        "A **heatmap** is a **data visualization technique** that represents values in a **matrix format** using colors. It helps identify patterns, correlations, and trends in large datasets quickly.  \n",
        "\n",
        "### **Use a Heatmap**  \n",
        "✔ **Correlation Analysis** – To find relationships between variables (e.g., feature correlation in machine learning).  \n",
        "✔ **Comparing Data** – Visualizing trends across categories (e.g., website traffic over days).  \n",
        "✔ **Highlighting Anomalies** – Spotting outliers in datasets.  \n",
        "✔ **Hierarchical Data Representation** – Understanding clusters in data.  \n",
        "\n",
        "8. What does the term “vectorized operation” mean in NumPy?\n",
        "- A vectorized operation in NumPy refers to performing element-wise operations on arrays without using explicit loops. It allows fast and efficient computation by leveraging low-level optimizations in C and Fortran.\n",
        "9. How does Matplotlib differ from Plotly?\n",
        "- ### **Matplotlib vs. Plotly: Key Differences**  \n",
        "\n",
        "| Feature         | **Matplotlib** 🟢 | **Plotly** 🔵 |\n",
        "|---------------|----------------|---------------|\n",
        "| **Type**       | Static plotting library | Interactive plotting library |\n",
        "| **Interactivity** | Limited (basic zoom/pan) | Fully interactive (hover, zoom, export) |\n",
        "| **Ease of Use** | Requires more customization | Easier with built-in interactive features |\n",
        "| **Customization** | Highly flexible | Less customizable but visually appealing |\n",
        "| **Best For** | Scientific, static, and publication-ready plots | Dashboards, web-based visualizations, and interactive analytics |\n",
        "| **Performance** | Faster for simple plots | Can be slower for large datasets |\n",
        "| **3D & Maps Support** | Basic 3D support, no built-in maps | Strong 3D and built-in map support |\n",
        "| **Integration** | Works well with NumPy, Pandas | Works well with Dash, Pandas, and web apps |\n",
        "\n",
        "10. What is the significance of hierarchical indexing in Pandas?\n",
        "- Hierarchical indexing (also called MultiIndex) allows multiple levels of indexing in a Pandas Series or DataFrame. It helps in organizing and analyzing multi-dimensional data within a 2D table structure.\n",
        "\n",
        "Key Features:\n",
        "\n",
        "🔹 Access data using multiple levels (df.loc['Sales', 'Q1']).\n",
        "\n",
        "🔹 Enables easy grouping, filtering, and aggregation.\n",
        "\n",
        "🔹 Simplifies handling of time-series or multi-category datasets.\n",
        "\n",
        "11. What is the role of Seaborn’s pairplot() function?\n",
        "- Seaborn’s pairplot() is used for visualizing pairwise relationships in a dataset. It creates a grid of scatter plots for numerical variables and diagonal histograms (or KDE plots) to show data distribution.\n",
        "12. What is the purpose of the describe() function in Pandas?\n",
        "- The describe() function in Pandas provides summary statistics for numerical (or categorical) columns in a DataFrame. It helps in quick data exploration by giving insights into data distribution and central tendencies.\n",
        "13. Why is handling missing data important in Pandas?\n",
        "- Handling missing data is crucial because missing values can distort analysis, affect model accuracy, and lead to incorrect conclusions. Pandas provides multiple ways to detect, handle, and clean missing data efficiently.\n",
        "14. What are the benefits of using Plotly for data visualization?\n",
        "- Plotly is a powerful interactive visualization library in Python that offers several advantages over traditional plotting libraries like Matplotlib and Seaborn.\n",
        "\n",
        "\n",
        "Key Benefits of Plotly:\n",
        "\n",
        "✔ 1. Interactive Visualizations\n",
        "\n",
        "\n",
        "* Supports zooming, panning, hovering, and tooltips for deeper data exploration.\n",
        "\n",
        "* Enhances user engagement compared to static charts.\n",
        "\n",
        "✔ 2. Easy to Use with Pandas & Dash\n",
        "\n",
        "\n",
        "* Works seamlessly with Pandas DataFrames.\n",
        "\n",
        "* Easily integrates with Dash for web-based dashboards.\n",
        "\n",
        "✔ 3. Supports a Wide Range of Charts\n",
        "\n",
        "\n",
        "* Line, bar, scatter, pie, heatmaps, choropleth maps, 3D plots, and more.\n",
        "\n",
        "✔ 4. Beautiful & Customizable Plots\n",
        "\n",
        "\n",
        "* Comes with built-in themes and styles.\n",
        "\n",
        "* Supports color scaling, annotations, and interactive legends.\n",
        "\n",
        "✔ 5. Web & Mobile-Friendly\n",
        "\n",
        "\n",
        "* Generates HTML-based charts that work in browsers.\n",
        "\n",
        "* Can be embedded into web apps and Jupyter Notebooks.\n",
        "\n",
        "✔ 6. Supports Large Datasets\n",
        "\n",
        "\n",
        "* Efficiently handles big data visualization.\n",
        "\n",
        "* Allows downsampling for better performance.\n",
        "\n",
        "✔ 7. Integration with Machine Learning & AI\n",
        "\n",
        "\n",
        "* Can be used to visualize ML model outputs, feature importance, and clustering results.\n",
        "\n",
        "15. How does NumPy handle multidimensional arrays?\n",
        "- NumPy efficiently handles multidimensional arrays (ndarrays) using its numpy.array() function. These arrays, called ndarrays (N-dimensional arrays), allow storage and operations on multi-dimensional data (e.g., 2D matrices, 3D tensors).\n",
        "16. What is the role of Bokeh in data visualization?\n",
        "- Bokeh is a powerful Python library for creating interactive, web-friendly visualizations. It is designed to handle large datasets efficiently and integrates well with web applications.\n",
        "\n",
        "Key Roles of Bokeh in Data Visualization:\n",
        "\n",
        "✔ 1. Interactive Plots – Supports hovering, zooming, panning, and real-time updates.\n",
        "\n",
        "✔ 2. Web-Ready Visuals – Generates HTML and JavaScript for embedding in web apps.\n",
        "\n",
        "✔ 3. High-Performance Handling of Big Data – Optimized for large datasets and streaming data.\n",
        "\n",
        "✔ 4. Supports Multiple Plot Types – Line, scatter, bar, heatmaps, maps, and custom dashboards.\n",
        "\n",
        "✔ 5. Works with Pandas & NumPy – Easily integrates with data science workflows.\n",
        "\n",
        "✔ 6. Flexible Output – Plots can be displayed in Jupyter Notebooks, web pages, or standalone HTML files.\n",
        "17. Explain the difference between apply() and map() in Pandas?\n",
        "- ### **Difference Between `apply()` and `map()` in Pandas**  \n",
        "\n",
        "Both `apply()` and `map()` are used to **apply functions to DataFrame/Series elements**, but they differ in scope and functionality.  \n",
        "\n",
        "| Feature        | **`apply()`** | **`map()`** |\n",
        "|---------------|--------------|-------------|\n",
        "| **Works On**  | DataFrame & Series | Only Series |\n",
        "| **Function Type** | Works with row/column-wise functions | Works with element-wise functions |\n",
        "| **Supports Lambda** | ✅ Yes | ✅ Yes |\n",
        "| **Returns** | A Series or DataFrame | A transformed Series |\n",
        "| **Can Modify Multiple Columns?** | ✅ Yes | ❌ No |\n",
        "\n",
        "18. What are some advanced features of NumPy?\n",
        "- NumPy offers powerful features for scientific computing, numerical analysis, and high-performance data processing. Some of its advanced capabilities include:\n",
        "1. Broadcasting for Efficient Computation\n",
        "\n",
        "✔ Allows arithmetic operations between arrays of different shapes without looping.\n",
        "\n",
        "✔ Saves memory and improves speed.\n",
        "\n",
        "2. Vectorized Operations (Avoiding Loops)\n",
        "\n",
        "✔ Performs element-wise operations efficiently without explicit loops.\n",
        "\n",
        "3. Memory-Efficient Slicing (Views, Not Copies)\n",
        "\n",
        "✔ NumPy slices return views (not copies), reducing memory usage.\n",
        "4. Fancy Indexing & Boolean Masking\n",
        "\n",
        "✔ Extract values based on conditions without loops.\n",
        "5. Fast Fourier Transform (FFT) for Signal Processing\n",
        "\n",
        "✔ Used for frequency domain analysis (e.g., sound waves, images).\n",
        "\n",
        "6. Linear Algebra Operations\n",
        "\n",
        "✔ NumPy provides efficient matrix operations using numpy.linalg.\n",
        "\n",
        "7. Random Number Generation (numpy.random)\n",
        "\n",
        "✔ Generate random numbers for simulations, ML, and cryptography.\n",
        "\n",
        "\n",
        "8. Parallel Computing with NumPy (numexpr)\n",
        "\n",
        "✔ Optimizes NumPy expressions for multi-core CPUs, speeding up computations.\n",
        "\n",
        "19.  How does Pandas simplify time series analysis?\n",
        "- Pandas simplifies time series analysis by providing powerful tools for handling date-time data, performing resampling, and applying time-based indexing. With the DatetimeIndex, Pandas allows easy conversion of strings into time-aware formats, enabling operations like shifting, rolling windows, and time-based filtering. The resample() function helps aggregate data at different time intervals (e.g., daily to monthly), while rolling() enables moving averages and trend analysis. Pandas also supports handling missing time data, making it ideal for financial, stock market, and IoT applications. Its seamless integration with Matplotlib ensures easy visualization of trends over time, making time series analysis efficient and intuitive.\n",
        "20. What is the role of a pivot table in Pandas?\n",
        "- A pivot table in Pandas is used to summarize, aggregate, and analyze data in a structured format, similar to Excel pivot tables. It allows users to rearrange and group data dynamically based on specified criteria, making it a powerful tool for data analysis and reporting.\n",
        "21. Why is NumPy’s array slicing faster than Python’s list slicing?\n",
        "- NumPy’s array slicing is significantly faster than Python’s list slicing because of three key reasons:\n",
        "1. NumPy Uses Contiguous Memory Storage\n",
        "\n",
        "NumPy arrays are stored in a single continuous block of memory, making data access much faster.\n",
        "\n",
        "Python lists store elements as pointers to objects, causing overhead in memory lookup.\n",
        "2. NumPy Performs Vectorized Operations (C & Fortran Optimized)\n",
        "\n",
        "NumPy’s slicing does not involve looping in Python; instead, operations are handled at the low-level C and Fortran layers.\n",
        "\n",
        "Python lists require explicit loops and function calls for operations\n",
        "3. NumPy Avoids Type Checking Overhead\n",
        "\n",
        "NumPy arrays store elements of the same data type, so there is no need to check types for each operation.\n",
        "\n",
        "Python lists store heterogeneous data (mixed types), requiring type checks during slicing.\n",
        "\n",
        "22. What are some common use cases for Seaborn?\n",
        "- Common Use Cases for Seaborn\n",
        "Seaborn is a powerful Python library for statistical data visualization. It simplifies complex visualizations and enhances insights.\n",
        "\n",
        "\n",
        "✅ 1. Exploratory Data Analysis (EDA) – Quickly visualize patterns, trends, and distributions.\n",
        "\n",
        "✅ 2. Correlation Analysis – Use heatmaps to find relationships between variables.\n",
        "\n",
        "✅ 3. Category Comparisons – Create bar plots, box plots, and violin plots to compare groups.\n",
        "\n",
        "✅ 4. Trend Analysis – Use line plots to visualize time series data.\n",
        "\n",
        "✅ 5. Distribution Analysis – Visualize histograms, KDE plots, and pair plots to understand data spread.\n",
        "\n"
      ],
      "metadata": {
        "id": "u92jgKCtzdwE"
      }
    },
    {
      "cell_type": "markdown",
      "source": [
        "#Practical\n"
      ],
      "metadata": {
        "id": "3YsG7Y5A8YJM"
      }
    },
    {
      "cell_type": "code",
      "source": [
        "#1  How do you create a 2D NumPy array and calculate the sum of each row?\n",
        "import numpy as np\n",
        "\n",
        "# Create a 2D NumPy array\n",
        "arr = np.array([[1, 2, 3], [4, 5, 6], [7, 8, 9]])\n",
        "\n",
        "# Calculate the sum of each row\n",
        "row_sum = np.sum(arr, axis=1)\n",
        "\n",
        "print(\"2D Array:\")\n",
        "print(arr)\n",
        "\n",
        "print(\"\\nSum of each row:\")\n",
        "print(row_sum)\n"
      ],
      "metadata": {
        "colab": {
          "base_uri": "https://localhost:8080/"
        },
        "id": "8OLrYUWF8cQu",
        "outputId": "6a6ef552-2396-41ec-8658-5e141ebb4d42"
      },
      "execution_count": 1,
      "outputs": [
        {
          "output_type": "stream",
          "name": "stdout",
          "text": [
            "2D Array:\n",
            "[[1 2 3]\n",
            " [4 5 6]\n",
            " [7 8 9]]\n",
            "\n",
            "Sum of each row:\n",
            "[ 6 15 24]\n"
          ]
        }
      ]
    },
    {
      "cell_type": "code",
      "source": [
        "#2 Write a Pandas script to find the mean of a specific column in a DataFrameA\n",
        "import pandas as pd\n",
        "\n",
        "# Sample DataFrame\n",
        "data = {\n",
        "    'Name': ['John', 'Emma', 'Sam', 'Lucy'],\n",
        "    'Age': [25, 30, 22, 28],\n",
        "    'Salary': [50000, 60000, 45000, 70000]\n",
        "}\n",
        "\n",
        "df = pd.DataFrame(data)\n",
        "\n",
        "# Calculate the mean of the 'Salary' column\n",
        "salary_mean = df['Salary'].mean()\n",
        "\n",
        "print(\"Mean of the 'Salary' column:\", salary_mean)\n"
      ],
      "metadata": {
        "colab": {
          "base_uri": "https://localhost:8080/"
        },
        "id": "uPHoNrML8qVZ",
        "outputId": "1ef2cfab-f18c-4d40-e829-3e21770d0ec0"
      },
      "execution_count": 2,
      "outputs": [
        {
          "output_type": "stream",
          "name": "stdout",
          "text": [
            "Mean of the 'Salary' column: 56250.0\n"
          ]
        }
      ]
    },
    {
      "cell_type": "code",
      "source": [
        "#3 Create a scatter plot using Matplotlib\n",
        "import matplotlib.pyplot as plt\n",
        "\n",
        "# Sample data\n",
        "x = [1, 2, 3, 4, 5]\n",
        "y = [2, 3, 5, 7, 11]\n",
        "\n",
        "# Create a scatter plot\n",
        "plt.scatter(x, y)\n",
        "\n",
        "# Add labels and title\n",
        "plt.xlabel('X-axis')\n",
        "plt.ylabel('Y-axis')\n",
        "plt.title('Simple Scatter Plot')\n",
        "\n",
        "# Show the plot\n",
        "plt.show()\n"
      ],
      "metadata": {
        "colab": {
          "base_uri": "https://localhost:8080/",
          "height": 472
        },
        "id": "cpiQWppa880o",
        "outputId": "bc652774-c572-4c1f-9827-e7863381e4df"
      },
      "execution_count": 3,
      "outputs": [
        {
          "output_type": "display_data",
          "data": {
            "text/plain": [
              "<Figure size 640x480 with 1 Axes>"
            ],
            "image/png": "[encoded data removed]"
          },
          "metadata": {}
        }
      ]
    },
    {
      "cell_type": "code",
      "source": [
        "#4 How do you calculate the correlation matrix using Seaborn and visualize it with a heatmap)\n",
        "import seaborn as sns\n",
        "import matplotlib.pyplot as plt\n",
        "import pandas as pd\n",
        "\n",
        "# Sample data\n",
        "data = {\n",
        "    'A': [1, 2, 3, 4, 5],\n",
        "    'B': [5, 4, 3, 2, 1],\n",
        "    'C': [2, 3, 4, 5, 6],\n",
        "    'D': [7, 8, 9, 10, 11]\n",
        "}\n",
        "\n",
        "# Create a DataFrame\n",
        "df = pd.DataFrame(data)\n",
        "\n",
        "# Calculate the correlation matrix\n",
        "corr_matrix = df.corr()\n",
        "\n",
        "# Visualize the correlation matrix with a heatmap\n",
        "sns.heatmap(corr_matrix, annot=True, cmap='coolwarm', fmt='.2f')\n",
        "\n",
        "# Display the plot\n",
        "plt.title('Correlation Matrix Heatmap')\n",
        "plt.show()\n"
      ],
      "metadata": {
        "colab": {
          "base_uri": "https://localhost:8080/",
          "height": 452
        },
        "id": "0hjhsxMF9Ivz",
        "outputId": "a2861684-c6bb-4ac3-86b6-51f08001c5fd"
      },
      "execution_count": 4,
      "outputs": [
        {
          "output_type": "display_data",
          "data": {
            "text/plain": [
              "<Figure size 640x480 with 2 Axes>"
            ],
            "image/png": "[encoded data removed]"
          },
          "metadata": {}
        }
      ]
    },
    {
      "cell_type": "code",
      "source": [
        "#5 Generate a bar plot using PlotlyA\n",
        "import plotly.graph_objects as go\n",
        "\n",
        "# Sample data\n",
        "categories = ['A', 'B', 'C', 'D', 'E']\n",
        "values = [10, 20, 15, 25, 30]\n",
        "\n",
        "# Create a bar plot\n",
        "fig = go.Figure([go.Bar(x=categories, y=values)])\n",
        "\n",
        "# Add title and labels\n",
        "fig.update_layout(\n",
        "    title='Simple Bar Plot',\n",
        "    xaxis_title='Categories',\n",
        "    yaxis_title='Values'\n",
        ")\n",
        "\n",
        "# Show the plot\n",
        "fig.show()\n"
      ],
      "metadata": {
        "colab": {
          "base_uri": "https://localhost:8080/",
          "height": 542
        },
        "id": "rJ4ieeEi9W44",
        "outputId": "6cfeab0f-5e10-4089-b454-e8085914a8e2"
      },
      "execution_count": 5,
      "outputs": [
        {
          "output_type": "display_data",
          "data": {
            "text/html": [
              "<html>\n",
              "<head><meta charset=\"utf-8\" /></head>\n",
              "<body>\n",
              "    <div>            <script src=\"https://cdnjs.cloudflare.com/ajax/libs/mathjax/2.7.5/MathJax.js?config=TeX-AMS-MML_SVG\"></script><script type=\"text/javascript\">if (window.MathJax && window.MathJax.Hub && window.MathJax.Hub.Config) {window.MathJax.Hub.Config({SVG: {font: \"STIX-Web\"}});}</script>                <script type=\"text/javascript\">window.PlotlyConfig = {MathJaxConfig: 'local'};</script>\n",
              "        <script charset=\"utf-8\" src=\"https://cdn.plot.ly/plotly-2.35.2.min.js\"></script>                <div id=\"7be00b74-3363-402e-946f-151911cf56fb\" class=\"plotly-graph-div\" style=\"height:525px; width:100%;\"></div>            <script type=\"text/javascript\">                                    window.PLOTLYENV=window.PLOTLYENV || {};                                    if (document.getElementById(\"7be00b74-3363-402e-946f-151911cf56fb\")) {                    Plotly.newPlot(                        \"7be00b74-3363-402e-946f-151911cf56fb\",                        [{\"x\":[\"A\",\"B\",\"C\",\"D\",\"E\"],\"y\":[10,20,15,25,30],\"type\":\"bar\"}],                        {\"template\":{\"data\":{\"histogram2dcontour\":[{\"type\":\"histogram2dcontour\",\"colorbar\":{\"outlinewidth\":0,\"ticks\":\"\"},\"colorscale\":[[0.0,\"#0d0887\"],[0.1111111111111111,\"#46039f\"],[0.2222222222222222,\"#7201a8\"],[0.3333333333333333,\"#9c179e\"],[0.4444444444444444,\"#bd3786\"],[0.5555555555555556,\"#d8576b\"],[0.6666666666666666,\"#ed7953\"],[0.7777777777777778,\"#fb9f3a\"],[0.8888888888888888,\"#fdca26\"],[1.0,\"#f0f921\"]]}],\"choropleth\":[{\"type\":\"choropleth\",\"colorbar\":{\"outlinewidth\":0,\"ticks\":\"\"}}],\"histogram2d\":[{\"type\":\"histogram2d\",\"colorbar\":{\"outlinewidth\":0,\"ticks\":\"\"},\"colorscale\":[[0.0,\"#0d0887\"],[0.1111111111111111,\"#46039f\"],[0.2222222222222222,\"#7201a8\"],[0.3333333333333333,\"#9c179e\"],[0.4444444444444444,\"#bd3786\"],[0.5555555555555556,\"#d8576b\"],[0.6666666666666666,\"#ed7953\"],[0.7777777777777778,\"#fb9f3a\"],[0.8888888888888888,\"#fdca26\"],[1.0,\"#f0f921\"]]}],\"heatmap\":[{\"type\":\"heatmap\",\"colorbar\":{\"outlinewidth\":0,\"ticks\":\"\"},\"colorscale\":[[0.0,\"#0d0887\"],[0.1111111111111111,\"#46039f\"],[0.2222222222222222,\"#7201a8\"],[0.3333333333333333,\"#9c179e\"],[0.4444444444444444,\"#bd3786\"],[0.5555555555555556,\"#d8576b\"],[0.6666666666666666,\"#ed7953\"],[0.7777777777777778,\"#fb9f3a\"],[0.8888888888888888,\"#fdca26\"],[1.0,\"#f0f921\"]]}],\"heatmapgl\":[{\"type\":\"heatmapgl\",\"colorbar\":{\"outlinewidth\":0,\"ticks\":\"\"},\"colorscale\":[[0.0,\"#0d0887\"],[0.1111111111111111,\"#46039f\"],[0.2222222222222222,\"#7201a8\"],[0.3333333333333333,\"#9c179e\"],[0.4444444444444444,\"#bd3786\"],[0.5555555555555556,\"#d8576b\"],[0.6666666666666666,\"#ed7953\"],[0.7777777777777778,\"#fb9f3a\"],[0.8888888888888888,\"#fdca26\"],[1.0,\"#f0f921\"]]}],\"contourcarpet\":[{\"type\":\"contourcarpet\",\"colorbar\":{\"outlinewidth\":0,\"ticks\":\"\"}}],\"contour\":[{\"type\":\"contour\",\"colorbar\":{\"outlinewidth\":0,\"ticks\":\"\"},\"colorscale\":[[0.0,\"#0d0887\"],[0.1111111111111111,\"#46039f\"],[0.2222222222222222,\"#7201a8\"],[0.3333333333333333,\"#9c179e\"],[0.4444444444444444,\"#bd3786\"],[0.5555555555555556,\"#d8576b\"],[0.6666666666666666,\"#ed7953\"],[0.7777777777777778,\"#fb9f3a\"],[0.8888888888888888,\"#fdca26\"],[1.0,\"#f0f921\"]]}],\"surface\":[{\"type\":\"surface\",\"colorbar\":{\"outlinewidth\":0,\"ticks\":\"\"},\"colorscale\":[[0.0,\"#0d0887\"],[0.1111111111111111,\"#46039f\"],[0.2222222222222222,\"#7201a8\"],[0.3333333333333333,\"#9c179e\"],[0.4444444444444444,\"#bd3786\"],[0.5555555555555556,\"#d8576b\"],[0.6666666666666666,\"#ed7953\"],[0.7777777777777778,\"#fb9f3a\"],[0.8888888888888888,\"#fdca26\"],[1.0,\"#f0f921\"]]}],\"mesh3d\":[{\"type\":\"mesh3d\",\"colorbar\":{\"outlinewidth\":0,\"ticks\":\"\"}}],\"scatter\":[{\"fillpattern\":{\"fillmode\":\"overlay\",\"size\":10,\"solidity\":0.2},\"type\":\"scatter\"}],\"parcoords\":[{\"type\":\"parcoords\",\"line\":{\"colorbar\":{\"outlinewidth\":0,\"ticks\":\"\"}}}],\"scatterpolargl\":[{\"type\":\"scatterpolargl\",\"marker\":{\"colorbar\":{\"outlinewidth\":0,\"ticks\":\"\"}}}],\"bar\":[{\"error_x\":{\"color\":\"#2a3f5f\"},\"error_y\":{\"color\":\"#2a3f5f\"},\"marker\":{\"line\":{\"color\":\"#E5ECF6\",\"width\":0.5},\"pattern\":{\"fillmode\":\"overlay\",\"size\":10,\"solidity\":0.2}},\"type\":\"bar\"}],\"scattergeo\":[{\"type\":\"scattergeo\",\"marker\":{\"colorbar\":{\"outlinewidth\":0,\"ticks\":\"\"}}}],\"scatterpolar\":[{\"type\":\"scatterpolar\",\"marker\":{\"colorbar\":{\"outlinewidth\":0,\"ticks\":\"\"}}}],\"histogram\":[{\"marker\":{\"pattern\":{\"fillmode\":\"overlay\",\"size\":10,\"solidity\":0.2}},\"type\":\"histogram\"}],\"scattergl\":[{\"type\":\"scattergl\",\"marker\":{\"colorbar\":{\"outlinewidth\":0,\"ticks\":\"\"}}}],\"scatter3d\":[{\"type\":\"scatter3d\",\"line\":{\"colorbar\":{\"outlinewidth\":0,\"ticks\":\"\"}},\"marker\":{\"colorbar\":{\"outlinewidth\":0,\"ticks\":\"\"}}}],\"scattermapbox\":[{\"type\":\"scattermapbox\",\"marker\":{\"colorbar\":{\"outlinewidth\":0,\"ticks\":\"\"}}}],\"scatterternary\":[{\"type\":\"scatterternary\",\"marker\":{\"colorbar\":{\"outlinewidth\":0,\"ticks\":\"\"}}}],\"scattercarpet\":[{\"type\":\"scattercarpet\",\"marker\":{\"colorbar\":{\"outlinewidth\":0,\"ticks\":\"\"}}}],\"carpet\":[{\"aaxis\":{\"endlinecolor\":\"#2a3f5f\",\"gridcolor\":\"white\",\"linecolor\":\"white\",\"minorgridcolor\":\"white\",\"startlinecolor\":\"#2a3f5f\"},\"baxis\":{\"endlinecolor\":\"#2a3f5f\",\"gridcolor\":\"white\",\"linecolor\":\"white\",\"minorgridcolor\":\"white\",\"startlinecolor\":\"#2a3f5f\"},\"type\":\"carpet\"}],\"table\":[{\"cells\":{\"fill\":{\"color\":\"#EBF0F8\"},\"line\":{\"color\":\"white\"}},\"header\":{\"fill\":{\"color\":\"#C8D4E3\"},\"line\":{\"color\":\"white\"}},\"type\":\"table\"}],\"barpolar\":[{\"marker\":{\"line\":{\"color\":\"#E5ECF6\",\"width\":0.5},\"pattern\":{\"fillmode\":\"overlay\",\"size\":10,\"solidity\":0.2}},\"type\":\"barpolar\"}],\"pie\":[{\"automargin\":true,\"type\":\"pie\"}]},\"layout\":{\"autotypenumbers\":\"strict\",\"colorway\":[\"#636efa\",\"#EF553B\",\"#00cc96\",\"#ab63fa\",\"#FFA15A\",\"#19d3f3\",\"#FF6692\",\"#B6E880\",\"#FF97FF\",\"#FECB52\"],\"font\":{\"color\":\"#2a3f5f\"},\"hovermode\":\"closest\",\"hoverlabel\":{\"align\":\"left\"},\"paper_bgcolor\":\"white\",\"plot_bgcolor\":\"#E5ECF6\",\"polar\":{\"bgcolor\":\"#E5ECF6\",\"angularaxis\":{\"gridcolor\":\"white\",\"linecolor\":\"white\",\"ticks\":\"\"},\"radialaxis\":{\"gridcolor\":\"white\",\"linecolor\":\"white\",\"ticks\":\"\"}},\"ternary\":{\"bgcolor\":\"#E5ECF6\",\"aaxis\":{\"gridcolor\":\"white\",\"linecolor\":\"white\",\"ticks\":\"\"},\"baxis\":{\"gridcolor\":\"white\",\"linecolor\":\"white\",\"ticks\":\"\"},\"caxis\":{\"gridcolor\":\"white\",\"linecolor\":\"white\",\"ticks\":\"\"}},\"coloraxis\":{\"colorbar\":{\"outlinewidth\":0,\"ticks\":\"\"}},\"colorscale\":{\"sequential\":[[0.0,\"#0d0887\"],[0.1111111111111111,\"#46039f\"],[0.2222222222222222,\"#7201a8\"],[0.3333333333333333,\"#9c179e\"],[0.4444444444444444,\"#bd3786\"],[0.5555555555555556,\"#d8576b\"],[0.6666666666666666,\"#ed7953\"],[0.7777777777777778,\"#fb9f3a\"],[0.8888888888888888,\"#fdca26\"],[1.0,\"#f0f921\"]],\"sequentialminus\":[[0.0,\"#0d0887\"],[0.1111111111111111,\"#46039f\"],[0.2222222222222222,\"#7201a8\"],[0.3333333333333333,\"#9c179e\"],[0.4444444444444444,\"#bd3786\"],[0.5555555555555556,\"#d8576b\"],[0.6666666666666666,\"#ed7953\"],[0.7777777777777778,\"#fb9f3a\"],[0.8888888888888888,\"#fdca26\"],[1.0,\"#f0f921\"]],\"diverging\":[[0,\"#8e0152\"],[0.1,\"#c51b7d\"],[0.2,\"#de77ae\"],[0.3,\"#f1b6da\"],[0.4,\"#fde0ef\"],[0.5,\"#f7f7f7\"],[0.6,\"#e6f5d0\"],[0.7,\"#b8e186\"],[0.8,\"#7fbc41\"],[0.9,\"#4d9221\"],[1,\"#276419\"]]},\"xaxis\":{\"gridcolor\":\"white\",\"linecolor\":\"white\",\"ticks\":\"\",\"title\":{\"standoff\":15},\"zerolinecolor\":\"white\",\"automargin\":true,\"zerolinewidth\":2},\"yaxis\":{\"gridcolor\":\"white\",\"linecolor\":\"white\",\"ticks\":\"\",\"title\":{\"standoff\":15},\"zerolinecolor\":\"white\",\"automargin\":true,\"zerolinewidth\":2},\"scene\":{\"xaxis\":{\"backgroundcolor\":\"#E5ECF6\",\"gridcolor\":\"white\",\"linecolor\":\"white\",\"showbackground\":true,\"ticks\":\"\",\"zerolinecolor\":\"white\",\"gridwidth\":2},\"yaxis\":{\"backgroundcolor\":\"#E5ECF6\",\"gridcolor\":\"white\",\"linecolor\":\"white\",\"showbackground\":true,\"ticks\":\"\",\"zerolinecolor\":\"white\",\"gridwidth\":2},\"zaxis\":{\"backgroundcolor\":\"#E5ECF6\",\"gridcolor\":\"white\",\"linecolor\":\"white\",\"showbackground\":true,\"ticks\":\"\",\"zerolinecolor\":\"white\",\"gridwidth\":2}},\"shapedefaults\":{\"line\":{\"color\":\"#2a3f5f\"}},\"annotationdefaults\":{\"arrowcolor\":\"#2a3f5f\",\"arrowhead\":0,\"arrowwidth\":1},\"geo\":{\"bgcolor\":\"white\",\"landcolor\":\"#E5ECF6\",\"subunitcolor\":\"white\",\"showland\":true,\"showlakes\":true,\"lakecolor\":\"white\"},\"title\":{\"x\":0.05},\"mapbox\":{\"style\":\"light\"}}},\"title\":{\"text\":\"Simple Bar Plot\"},\"xaxis\":{\"title\":{\"text\":\"Categories\"}},\"yaxis\":{\"title\":{\"text\":\"Values\"}}},                        {\"responsive\": true}                    ).then(function(){\n",
              "                            \n",
              "var gd = document.getElementById('7be00b74-3363-402e-946f-151911cf56fb');\n",
              "var x = new MutationObserver(function (mutations, observer) {{\n",
              "        var display = window.getComputedStyle(gd).display;\n",
              "        if (!display || display === 'none') {{\n",
              "            console.log([gd, 'removed!']);\n",
              "            Plotly.purge(gd);\n",
              "            observer.disconnect();\n",
              "        }}\n",
              "}});\n",
              "\n",
              "// Listen for the removal of the full notebook cells\n",
              "var notebookContainer = gd.closest('#notebook-container');\n",
              "if (notebookContainer) {{\n",
              "    x.observe(notebookContainer, {childList: true});\n",
              "}}\n",
              "\n",
              "// Listen for the clearing of the current output cell\n",
              "var outputEl = gd.closest('.output');\n",
              "if (outputEl) {{\n",
              "    x.observe(outputEl, {childList: true});\n",
              "}}\n",
              "\n",
              "                        })                };                            </script>        </div>\n",
              "</body>\n",
              "</html>"
            ]
          },
          "metadata": {}
        }
      ]
    },
    {
      "cell_type": "code",
      "source": [
        "#6 Create a DataFrame and add a new column based on an existing columnA\n",
        "import pandas as pd\n",
        "\n",
        "# Create a DataFrame\n",
        "data = {\n",
        "    'Name': ['John', 'Emma', 'Sam', 'Lucy'],\n",
        "    'Age': [25, 30, 22, 28]\n",
        "}\n",
        "\n",
        "df = pd.DataFrame(data)\n",
        "\n",
        "# Add a new column 'Age_in_5_years' based on the 'Age' column\n",
        "df['Age_in_5_years'] = df['Age'] + 5\n",
        "\n",
        "# Display the updated DataFrame\n",
        "print(df)\n"
      ],
      "metadata": {
        "colab": {
          "base_uri": "https://localhost:8080/"
        },
        "id": "GxV6Ilw79fsI",
        "outputId": "e697ce5c-0961-4729-a733-564ff27ce0fa"
      },
      "execution_count": 6,
      "outputs": [
        {
          "output_type": "stream",
          "name": "stdout",
          "text": [
            "   Name  Age  Age_in_5_years\n",
            "0  John   25              30\n",
            "1  Emma   30              35\n",
            "2   Sam   22              27\n",
            "3  Lucy   28              33\n"
          ]
        }
      ]
    },
    {
      "cell_type": "code",
      "source": [
        "#7 Write a program to perform element-wise multiplication of two NumPy arraysA\n",
        "import numpy as np\n",
        "\n",
        "# Create two NumPy arrays\n",
        "array1 = np.array([1, 2, 3, 4])\n",
        "array2 = np.array([5, 6, 7, 8])\n",
        "\n",
        "# Perform element-wise multiplication\n",
        "result = array1 * array2\n",
        "\n",
        "# Display the result\n",
        "print(\"Element-wise multiplication result:\", result)\n"
      ],
      "metadata": {
        "colab": {
          "base_uri": "https://localhost:8080/"
        },
        "id": "fZdCzHJk9vOb",
        "outputId": "7cafa6c9-b8f8-4d5d-818a-3c0a30d9468b"
      },
      "execution_count": 7,
      "outputs": [
        {
          "output_type": "stream",
          "name": "stdout",
          "text": [
            "Element-wise multiplication result: [ 5 12 21 32]\n"
          ]
        }
      ]
    },
    {
      "cell_type": "code",
      "source": [
        "#8 Create a line plot with multiple lines using MatplotlibA\n",
        "import matplotlib.pyplot as plt\n",
        "\n",
        "# Sample data for multiple lines\n",
        "x = [1, 2, 3, 4, 5]\n",
        "y1 = [1, 4, 9, 16, 25]\n",
        "y2 = [1, 2, 3, 4, 5]\n",
        "y3 = [25, 20, 15, 10, 5]\n",
        "\n",
        "# Create the line plot with multiple lines\n",
        "plt.plot(x, y1, label='y = x^2', marker='o', linestyle='-', color='b')  # Line 1\n",
        "plt.plot(x, y2, label='y = x', marker='s', linestyle='--', color='g')   # Line 2\n",
        "plt.plot(x, y3, label='y = 30 - x', marker='^', linestyle='-.', color='r')  # Line 3\n",
        "\n",
        "# Add labels and title\n",
        "plt.xlabel('X-axis')\n",
        "plt.ylabel('Y-axis')\n",
        "plt.title('Line Plot with Multiple Lines')\n",
        "\n",
        "# Show legend\n",
        "plt.legend()\n",
        "\n",
        "# Display the plot\n",
        "plt.show()\n"
      ],
      "metadata": {
        "colab": {
          "base_uri": "https://localhost:8080/",
          "height": 472
        },
        "id": "1VtcDnKI996w",
        "outputId": "59c76685-84de-424c-c7b2-b6b1ba1bfbc8"
      },
      "execution_count": 8,
      "outputs": [
        {
          "output_type": "display_data",
          "data": {
            "text/plain": [
              "<Figure size 640x480 with 1 Axes>"
            ],
            "image/png": "[encoded data removed]"
          },
          "metadata": {}
        }
      ]
    },
    {
      "cell_type": "code",
      "source": [
        "#9 Generate a Pandas DataFrame and filter rows where a column value is greater than a thresholdA\n",
        "import pandas as pd\n",
        "\n",
        "# Create a DataFrame\n",
        "data = {\n",
        "    'Name': ['John', 'Emma', 'Sam', 'Lucy', 'Mike'],\n",
        "    'Age': [25, 30, 22, 28, 35],\n",
        "    'Salary': [50000, 60000, 45000, 70000, 75000]\n",
        "}\n",
        "\n",
        "df = pd.DataFrame(data)\n",
        "\n",
        "# Set the threshold for salary\n",
        "threshold = 60000\n",
        "\n",
        "# Filter rows where 'Salary' is greater than the threshold\n",
        "filtered_df = df[df['Salary'] > threshold]\n",
        "\n",
        "# Display the filtered DataFrame\n",
        "print(filtered_df)\n",
        "\n"
      ],
      "metadata": {
        "colab": {
          "base_uri": "https://localhost:8080/"
        },
        "id": "VbMU7R3C-GbG",
        "outputId": "76484c42-31e1-4ba4-f972-a9f88832bfb7"
      },
      "execution_count": 9,
      "outputs": [
        {
          "output_type": "stream",
          "name": "stdout",
          "text": [
            "   Name  Age  Salary\n",
            "3  Lucy   28   70000\n",
            "4  Mike   35   75000\n"
          ]
        }
      ]
    },
    {
      "cell_type": "code",
      "source": [
        "#10 Create a histogram using Seaborn to visualize a distributionA\n",
        "import seaborn as sns\n",
        "import matplotlib.pyplot as plt\n",
        "\n",
        "# Sample data\n",
        "data = [1, 2, 2, 3, 3, 3, 4, 4, 4, 4, 5, 5, 5, 5, 5]\n",
        "\n",
        "# Create a histogram using Seaborn\n",
        "sns.histplot(data, kde=True, bins=5, color='blue')\n",
        "\n",
        "# Add title and labels\n",
        "plt.title('Histogram with Distribution')\n",
        "plt.xlabel('Value')\n",
        "plt.ylabel('Frequency')\n",
        "\n",
        "# Show the plot\n",
        "plt.show()\n"
      ],
      "metadata": {
        "colab": {
          "base_uri": "https://localhost:8080/",
          "height": 472
        },
        "id": "7PH3Kc2X-Pqw",
        "outputId": "34e3405e-21dc-4d73-f131-23fba367a63d"
      },
      "execution_count": 10,
      "outputs": [
        {
          "output_type": "display_data",
          "data": {
            "text/plain": [
              "<Figure size 640x480 with 1 Axes>"
            ],
            "image/png": "[encoded data removed]"
          },
          "metadata": {}
        }
      ]
    },
    {
      "cell_type": "code",
      "source": [
        "#11 Perform matrix multiplication using NumPyA\n",
        "import numpy as np\n",
        "\n",
        "# Create two matrices\n",
        "A = np.array([[1, 2], [3, 4]])\n",
        "B = np.array([[5, 6], [7, 8]])\n",
        "\n",
        "# Perform matrix multiplication\n",
        "result = np.dot(A, B)\n",
        "\n",
        "# Alternatively, you can use the @ operator:\n",
        "# result = A @ B\n",
        "\n",
        "# Display the result\n",
        "print(\"Matrix A:\")\n",
        "print(A)\n",
        "\n",
        "print(\"\\nMatrix B:\")\n",
        "print(B)\n",
        "\n",
        "print(\"\\nMatrix multiplication result:\")\n",
        "print(result)\n"
      ],
      "metadata": {
        "colab": {
          "base_uri": "https://localhost:8080/"
        },
        "id": "yj5q8KsC-b5k",
        "outputId": "8d3a43cd-6d53-4625-8afd-152f24d365c0"
      },
      "execution_count": 11,
      "outputs": [
        {
          "output_type": "stream",
          "name": "stdout",
          "text": [
            "Matrix A:\n",
            "[[1 2]\n",
            " [3 4]]\n",
            "\n",
            "Matrix B:\n",
            "[[5 6]\n",
            " [7 8]]\n",
            "\n",
            "Matrix multiplication result:\n",
            "[[19 22]\n",
            " [43 50]]\n"
          ]
        }
      ]
    },
    {
      "cell_type": "code",
      "source": [
        "#12  Use Pandas to load a CSV file and display its first 5 rows\n",
        "import pandas as pd\n",
        "\n",
        "# Load a CSV file into a DataFrame (replace 'your_file.csv' with the actual file path)\n",
        "df = pd.read_csv('your_file.csv')\n",
        "\n",
        "# Display the first 5 rows\n",
        "print(df.head())\n",
        "\n",
        "\n"
      ],
      "metadata": {
        "id": "LxzQmPfa-kTh"
      },
      "execution_count": null,
      "outputs": []
    },
    {
      "cell_type": "code",
      "source": [
        "#13 Create a 3D scatter plot using Plotly.\n",
        "import plotly.express as px\n",
        "import pandas as pd\n",
        "\n",
        "# Sample data\n",
        "data = {\n",
        "    'X': [1, 2, 3, 4, 5],\n",
        "    'Y': [10, 11, 12, 13, 14],\n",
        "    'Z': [100, 200, 300, 400, 500]\n",
        "}\n",
        "\n",
        "# Create a DataFrame\n",
        "df = pd.DataFrame(data)\n",
        "\n",
        "# Create a 3D scatter plot\n",
        "fig = px.scatter_3d(df, x='X', y='Y', z='Z', title=\"3D Scatter Plot\")\n",
        "\n",
        "# Show the plot\n",
        "fig.show()\n"
      ],
      "metadata": {
        "colab": {
          "base_uri": "https://localhost:8080/",
          "height": 542
        },
        "id": "IIwOj7rs-7X1",
        "outputId": "35b5941b-4ac2-4013-8c99-4062e838acc1"
      },
      "execution_count": 14,
      "outputs": [
        {
          "output_type": "display_data",
          "data": {
            "text/html": [
              "<html>\n",
              "<head><meta charset=\"utf-8\" /></head>\n",
              "<body>\n",
              "    <div>            <script src=\"https://cdnjs.cloudflare.com/ajax/libs/mathjax/2.7.5/MathJax.js?config=TeX-AMS-MML_SVG\"></script><script type=\"text/javascript\">if (window.MathJax && window.MathJax.Hub && window.MathJax.Hub.Config) {window.MathJax.Hub.Config({SVG: {font: \"STIX-Web\"}});}</script>                <script type=\"text/javascript\">window.PlotlyConfig = {MathJaxConfig: 'local'};</script>\n",
              "        <script charset=\"utf-8\" src=\"https://cdn.plot.ly/plotly-2.35.2.min.js\"></script>                <div id=\"ddb14414-e388-4990-9f4e-bb5c2190a351\" class=\"plotly-graph-div\" style=\"height:525px; width:100%;\"></div>            <script type=\"text/javascript\">                                    window.PLOTLYENV=window.PLOTLYENV || {};                                    if (document.getElementById(\"ddb14414-e388-4990-9f4e-bb5c2190a351\")) {                    Plotly.newPlot(                        \"ddb14414-e388-4990-9f4e-bb5c2190a351\",                        [{\"hovertemplate\":\"X=%{x}\\u003cbr\\u003eY=%{y}\\u003cbr\\u003eZ=%{z}\\u003cextra\\u003e\\u003c\\u002fextra\\u003e\",\"legendgroup\":\"\",\"marker\":{\"color\":\"#636efa\",\"symbol\":\"circle\"},\"mode\":\"markers\",\"name\":\"\",\"scene\":\"scene\",\"showlegend\":false,\"x\":[1,2,3,4,5],\"y\":[10,11,12,13,14],\"z\":[100,200,300,400,500],\"type\":\"scatter3d\"}],                        {\"template\":{\"data\":{\"histogram2dcontour\":[{\"type\":\"histogram2dcontour\",\"colorbar\":{\"outlinewidth\":0,\"ticks\":\"\"},\"colorscale\":[[0.0,\"#0d0887\"],[0.1111111111111111,\"#46039f\"],[0.2222222222222222,\"#7201a8\"],[0.3333333333333333,\"#9c179e\"],[0.4444444444444444,\"#bd3786\"],[0.5555555555555556,\"#d8576b\"],[0.6666666666666666,\"#ed7953\"],[0.7777777777777778,\"#fb9f3a\"],[0.8888888888888888,\"#fdca26\"],[1.0,\"#f0f921\"]]}],\"choropleth\":[{\"type\":\"choropleth\",\"colorbar\":{\"outlinewidth\":0,\"ticks\":\"\"}}],\"histogram2d\":[{\"type\":\"histogram2d\",\"colorbar\":{\"outlinewidth\":0,\"ticks\":\"\"},\"colorscale\":[[0.0,\"#0d0887\"],[0.1111111111111111,\"#46039f\"],[0.2222222222222222,\"#7201a8\"],[0.3333333333333333,\"#9c179e\"],[0.4444444444444444,\"#bd3786\"],[0.5555555555555556,\"#d8576b\"],[0.6666666666666666,\"#ed7953\"],[0.7777777777777778,\"#fb9f3a\"],[0.8888888888888888,\"#fdca26\"],[1.0,\"#f0f921\"]]}],\"heatmap\":[{\"type\":\"heatmap\",\"colorbar\":{\"outlinewidth\":0,\"ticks\":\"\"},\"colorscale\":[[0.0,\"#0d0887\"],[0.1111111111111111,\"#46039f\"],[0.2222222222222222,\"#7201a8\"],[0.3333333333333333,\"#9c179e\"],[0.4444444444444444,\"#bd3786\"],[0.5555555555555556,\"#d8576b\"],[0.6666666666666666,\"#ed7953\"],[0.7777777777777778,\"#fb9f3a\"],[0.8888888888888888,\"#fdca26\"],[1.0,\"#f0f921\"]]}],\"heatmapgl\":[{\"type\":\"heatmapgl\",\"colorbar\":{\"outlinewidth\":0,\"ticks\":\"\"},\"colorscale\":[[0.0,\"#0d0887\"],[0.1111111111111111,\"#46039f\"],[0.2222222222222222,\"#7201a8\"],[0.3333333333333333,\"#9c179e\"],[0.4444444444444444,\"#bd3786\"],[0.5555555555555556,\"#d8576b\"],[0.6666666666666666,\"#ed7953\"],[0.7777777777777778,\"#fb9f3a\"],[0.8888888888888888,\"#fdca26\"],[1.0,\"#f0f921\"]]}],\"contourcarpet\":[{\"type\":\"contourcarpet\",\"colorbar\":{\"outlinewidth\":0,\"ticks\":\"\"}}],\"contour\":[{\"type\":\"contour\",\"colorbar\":{\"outlinewidth\":0,\"ticks\":\"\"},\"colorscale\":[[0.0,\"#0d0887\"],[0.1111111111111111,\"#46039f\"],[0.2222222222222222,\"#7201a8\"],[0.3333333333333333,\"#9c179e\"],[0.4444444444444444,\"#bd3786\"],[0.5555555555555556,\"#d8576b\"],[0.6666666666666666,\"#ed7953\"],[0.7777777777777778,\"#fb9f3a\"],[0.8888888888888888,\"#fdca26\"],[1.0,\"#f0f921\"]]}],\"surface\":[{\"type\":\"surface\",\"colorbar\":{\"outlinewidth\":0,\"ticks\":\"\"},\"colorscale\":[[0.0,\"#0d0887\"],[0.1111111111111111,\"#46039f\"],[0.2222222222222222,\"#7201a8\"],[0.3333333333333333,\"#9c179e\"],[0.4444444444444444,\"#bd3786\"],[0.5555555555555556,\"#d8576b\"],[0.6666666666666666,\"#ed7953\"],[0.7777777777777778,\"#fb9f3a\"],[0.8888888888888888,\"#fdca26\"],[1.0,\"#f0f921\"]]}],\"mesh3d\":[{\"type\":\"mesh3d\",\"colorbar\":{\"outlinewidth\":0,\"ticks\":\"\"}}],\"scatter\":[{\"fillpattern\":{\"fillmode\":\"overlay\",\"size\":10,\"solidity\":0.2},\"type\":\"scatter\"}],\"parcoords\":[{\"type\":\"parcoords\",\"line\":{\"colorbar\":{\"outlinewidth\":0,\"ticks\":\"\"}}}],\"scatterpolargl\":[{\"type\":\"scatterpolargl\",\"marker\":{\"colorbar\":{\"outlinewidth\":0,\"ticks\":\"\"}}}],\"bar\":[{\"error_x\":{\"color\":\"#2a3f5f\"},\"error_y\":{\"color\":\"#2a3f5f\"},\"marker\":{\"line\":{\"color\":\"#E5ECF6\",\"width\":0.5},\"pattern\":{\"fillmode\":\"overlay\",\"size\":10,\"solidity\":0.2}},\"type\":\"bar\"}],\"scattergeo\":[{\"type\":\"scattergeo\",\"marker\":{\"colorbar\":{\"outlinewidth\":0,\"ticks\":\"\"}}}],\"scatterpolar\":[{\"type\":\"scatterpolar\",\"marker\":{\"colorbar\":{\"outlinewidth\":0,\"ticks\":\"\"}}}],\"histogram\":[{\"marker\":{\"pattern\":{\"fillmode\":\"overlay\",\"size\":10,\"solidity\":0.2}},\"type\":\"histogram\"}],\"scattergl\":[{\"type\":\"scattergl\",\"marker\":{\"colorbar\":{\"outlinewidth\":0,\"ticks\":\"\"}}}],\"scatter3d\":[{\"type\":\"scatter3d\",\"line\":{\"colorbar\":{\"outlinewidth\":0,\"ticks\":\"\"}},\"marker\":{\"colorbar\":{\"outlinewidth\":0,\"ticks\":\"\"}}}],\"scattermapbox\":[{\"type\":\"scattermapbox\",\"marker\":{\"colorbar\":{\"outlinewidth\":0,\"ticks\":\"\"}}}],\"scatterternary\":[{\"type\":\"scatterternary\",\"marker\":{\"colorbar\":{\"outlinewidth\":0,\"ticks\":\"\"}}}],\"scattercarpet\":[{\"type\":\"scattercarpet\",\"marker\":{\"colorbar\":{\"outlinewidth\":0,\"ticks\":\"\"}}}],\"carpet\":[{\"aaxis\":{\"endlinecolor\":\"#2a3f5f\",\"gridcolor\":\"white\",\"linecolor\":\"white\",\"minorgridcolor\":\"white\",\"startlinecolor\":\"#2a3f5f\"},\"baxis\":{\"endlinecolor\":\"#2a3f5f\",\"gridcolor\":\"white\",\"linecolor\":\"white\",\"minorgridcolor\":\"white\",\"startlinecolor\":\"#2a3f5f\"},\"type\":\"carpet\"}],\"table\":[{\"cells\":{\"fill\":{\"color\":\"#EBF0F8\"},\"line\":{\"color\":\"white\"}},\"header\":{\"fill\":{\"color\":\"#C8D4E3\"},\"line\":{\"color\":\"white\"}},\"type\":\"table\"}],\"barpolar\":[{\"marker\":{\"line\":{\"color\":\"#E5ECF6\",\"width\":0.5},\"pattern\":{\"fillmode\":\"overlay\",\"size\":10,\"solidity\":0.2}},\"type\":\"barpolar\"}],\"pie\":[{\"automargin\":true,\"type\":\"pie\"}]},\"layout\":{\"autotypenumbers\":\"strict\",\"colorway\":[\"#636efa\",\"#EF553B\",\"#00cc96\",\"#ab63fa\",\"#FFA15A\",\"#19d3f3\",\"#FF6692\",\"#B6E880\",\"#FF97FF\",\"#FECB52\"],\"font\":{\"color\":\"#2a3f5f\"},\"hovermode\":\"closest\",\"hoverlabel\":{\"align\":\"left\"},\"paper_bgcolor\":\"white\",\"plot_bgcolor\":\"#E5ECF6\",\"polar\":{\"bgcolor\":\"#E5ECF6\",\"angularaxis\":{\"gridcolor\":\"white\",\"linecolor\":\"white\",\"ticks\":\"\"},\"radialaxis\":{\"gridcolor\":\"white\",\"linecolor\":\"white\",\"ticks\":\"\"}},\"ternary\":{\"bgcolor\":\"#E5ECF6\",\"aaxis\":{\"gridcolor\":\"white\",\"linecolor\":\"white\",\"ticks\":\"\"},\"baxis\":{\"gridcolor\":\"white\",\"linecolor\":\"white\",\"ticks\":\"\"},\"caxis\":{\"gridcolor\":\"white\",\"linecolor\":\"white\",\"ticks\":\"\"}},\"coloraxis\":{\"colorbar\":{\"outlinewidth\":0,\"ticks\":\"\"}},\"colorscale\":{\"sequential\":[[0.0,\"#0d0887\"],[0.1111111111111111,\"#46039f\"],[0.2222222222222222,\"#7201a8\"],[0.3333333333333333,\"#9c179e\"],[0.4444444444444444,\"#bd3786\"],[0.5555555555555556,\"#d8576b\"],[0.6666666666666666,\"#ed7953\"],[0.7777777777777778,\"#fb9f3a\"],[0.8888888888888888,\"#fdca26\"],[1.0,\"#f0f921\"]],\"sequentialminus\":[[0.0,\"#0d0887\"],[0.1111111111111111,\"#46039f\"],[0.2222222222222222,\"#7201a8\"],[0.3333333333333333,\"#9c179e\"],[0.4444444444444444,\"#bd3786\"],[0.5555555555555556,\"#d8576b\"],[0.6666666666666666,\"#ed7953\"],[0.7777777777777778,\"#fb9f3a\"],[0.8888888888888888,\"#fdca26\"],[1.0,\"#f0f921\"]],\"diverging\":[[0,\"#8e0152\"],[0.1,\"#c51b7d\"],[0.2,\"#de77ae\"],[0.3,\"#f1b6da\"],[0.4,\"#fde0ef\"],[0.5,\"#f7f7f7\"],[0.6,\"#e6f5d0\"],[0.7,\"#b8e186\"],[0.8,\"#7fbc41\"],[0.9,\"#4d9221\"],[1,\"#276419\"]]},\"xaxis\":{\"gridcolor\":\"white\",\"linecolor\":\"white\",\"ticks\":\"\",\"title\":{\"standoff\":15},\"zerolinecolor\":\"white\",\"automargin\":true,\"zerolinewidth\":2},\"yaxis\":{\"gridcolor\":\"white\",\"linecolor\":\"white\",\"ticks\":\"\",\"title\":{\"standoff\":15},\"zerolinecolor\":\"white\",\"automargin\":true,\"zerolinewidth\":2},\"scene\":{\"xaxis\":{\"backgroundcolor\":\"#E5ECF6\",\"gridcolor\":\"white\",\"linecolor\":\"white\",\"showbackground\":true,\"ticks\":\"\",\"zerolinecolor\":\"white\",\"gridwidth\":2},\"yaxis\":{\"backgroundcolor\":\"#E5ECF6\",\"gridcolor\":\"white\",\"linecolor\":\"white\",\"showbackground\":true,\"ticks\":\"\",\"zerolinecolor\":\"white\",\"gridwidth\":2},\"zaxis\":{\"backgroundcolor\":\"#E5ECF6\",\"gridcolor\":\"white\",\"linecolor\":\"white\",\"showbackground\":true,\"ticks\":\"\",\"zerolinecolor\":\"white\",\"gridwidth\":2}},\"shapedefaults\":{\"line\":{\"color\":\"#2a3f5f\"}},\"annotationdefaults\":{\"arrowcolor\":\"#2a3f5f\",\"arrowhead\":0,\"arrowwidth\":1},\"geo\":{\"bgcolor\":\"white\",\"landcolor\":\"#E5ECF6\",\"subunitcolor\":\"white\",\"showland\":true,\"showlakes\":true,\"lakecolor\":\"white\"},\"title\":{\"x\":0.05},\"mapbox\":{\"style\":\"light\"}}},\"scene\":{\"domain\":{\"x\":[0.0,1.0],\"y\":[0.0,1.0]},\"xaxis\":{\"title\":{\"text\":\"X\"}},\"yaxis\":{\"title\":{\"text\":\"Y\"}},\"zaxis\":{\"title\":{\"text\":\"Z\"}}},\"legend\":{\"tracegroupgap\":0},\"title\":{\"text\":\"3D Scatter Plot\"}},                        {\"responsive\": true}                    ).then(function(){\n",
              "                            \n",
              "var gd = document.getElementById('ddb14414-e388-4990-9f4e-bb5c2190a351');\n",
              "var x = new MutationObserver(function (mutations, observer) {{\n",
              "        var display = window.getComputedStyle(gd).display;\n",
              "        if (!display || display === 'none') {{\n",
              "            console.log([gd, 'removed!']);\n",
              "            Plotly.purge(gd);\n",
              "            observer.disconnect();\n",
              "        }}\n",
              "}});\n",
              "\n",
              "// Listen for the removal of the full notebook cells\n",
              "var notebookContainer = gd.closest('#notebook-container');\n",
              "if (notebookContainer) {{\n",
              "    x.observe(notebookContainer, {childList: true});\n",
              "}}\n",
              "\n",
              "// Listen for the clearing of the current output cell\n",
              "var outputEl = gd.closest('.output');\n",
              "if (outputEl) {{\n",
              "    x.observe(outputEl, {childList: true});\n",
              "}}\n",
              "\n",
              "                        })                };                            </script>        </div>\n",
              "</body>\n",
              "</html>"
            ]
          },
          "metadata": {}
        }
      ]
    }
  ]
}